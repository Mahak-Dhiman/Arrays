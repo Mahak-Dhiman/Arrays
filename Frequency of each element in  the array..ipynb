{
 "cells": [
  {
   "cell_type": "code",
   "execution_count": 5,
   "metadata": {},
   "outputs": [
    {
     "name": "stdout",
     "output_type": "stream",
     "text": [
      "1 : 5\n",
      "2 : 3\n",
      "4 : 2\n"
     ]
    }
   ],
   "source": [
    "a=[1,1,1,1,2,2,4,1,4,2]\n",
    "b={ }\n",
    "\n",
    "for i in a:\n",
    "    if i in b:\n",
    "        b[i]=b[i]+1\n",
    "    else:\n",
    "        b[i]=1\n",
    "for key, values in b.items():\n",
    "    print(key,\":\",values)"
   ]
  },
  {
   "cell_type": "code",
   "execution_count": null,
   "metadata": {},
   "outputs": [],
   "source": []
  }
 ],
 "metadata": {
  "kernelspec": {
   "display_name": "Python 3",
   "language": "python",
   "name": "python3"
  },
  "language_info": {
   "codemirror_mode": {
    "name": "ipython",
    "version": 3
   },
   "file_extension": ".py",
   "mimetype": "text/x-python",
   "name": "python",
   "nbconvert_exporter": "python",
   "pygments_lexer": "ipython3",
   "version": "3.7.6"
  }
 },
 "nbformat": 4,
 "nbformat_minor": 4
}
